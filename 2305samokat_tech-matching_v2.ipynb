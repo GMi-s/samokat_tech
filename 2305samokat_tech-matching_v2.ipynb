{
 "cells": [
  {
   "cell_type": "markdown",
   "id": "ada73bbf",
   "metadata": {},
   "source": [
    "# Самокат. Tech"
   ]
  },
  {
   "cell_type": "markdown",
   "id": "62f5d1f2",
   "metadata": {},
   "source": [
    "Вам предстоит решить часть задачи матчинга, связанную с отбором объектов. Матчинг — это процесс, который сопоставляет товары друг с другом. В самой задаче нужно будет грамотно обработать данные и оптимизировать векторный поиск для достижения максимального значения полноты."
   ]
  },
  {
   "cell_type": "markdown",
   "id": "be541f6c",
   "metadata": {},
   "source": [
    "## Dataset Description\n",
    "\n",
    "В этом задании на вход будет подаваться векторное представление товаров из base и query. Задача - для каждого товара из query предложить 10 кандидатов на матч.\n",
    "Данные:\n",
    "\n",
    "base.csv - векторное представление товаров base\n",
    "train.csv - векторное представление товаров query + таргет (товар из base, являющийся матчем)\n",
    "test.csv - векторное представление товаров query, для которых надо предсказать кандидатов на матч из base\n",
    "answer_sample.csv - формат ответа: Id - id продукта, Prtedicted - 10 id продуктов из base через пробел\n",
    "baseline.ipynb - ноутбук с простым решением. Для адекватного времени выполнения в ноутбуке нужно кое-что поменять."
   ]
  },
  {
   "cell_type": "markdown",
   "id": "c8683696",
   "metadata": {},
   "source": [
    "### Импорт библиотек"
   ]
  },
  {
   "cell_type": "code",
   "execution_count": 1,
   "id": "8f8ae50d",
   "metadata": {},
   "outputs": [],
   "source": [
    "import pandas as pd\n",
    "import numpy as np\n",
    "import re\n",
    "import faiss\n",
    "from scipy.stats import pearsonr\n",
    "from scipy.stats import spearmanr\n",
    "from sklearn.preprocessing import MinMaxScaler\n",
    "\n",
    "pd.set_option('display.max_columns', None)"
   ]
  },
  {
   "cell_type": "code",
   "execution_count": 11,
   "id": "2bcdfb53",
   "metadata": {},
   "outputs": [],
   "source": [
    "import nbconvert"
   ]
  },
  {
   "cell_type": "markdown",
   "id": "0e1bdbe7",
   "metadata": {},
   "source": [
    "### Чтение данных"
   ]
  },
  {
   "cell_type": "code",
   "execution_count": 2,
   "id": "6e50c4a4",
   "metadata": {},
   "outputs": [],
   "source": [
    "df_base = pd.read_csv('base.csv')"
   ]
  },
  {
   "cell_type": "code",
   "execution_count": 3,
   "id": "8024a716",
   "metadata": {},
   "outputs": [],
   "source": [
    "df_train = pd.read_csv('train.csv')"
   ]
  },
  {
   "cell_type": "code",
   "execution_count": 4,
   "id": "532d1320",
   "metadata": {},
   "outputs": [],
   "source": [
    "df_test = pd.read_csv('test.csv')"
   ]
  },
  {
   "cell_type": "code",
   "execution_count": 5,
   "id": "a1d2d1c2",
   "metadata": {},
   "outputs": [],
   "source": [
    "answer_sample = pd.read_csv('answer_sample.csv')"
   ]
  },
  {
   "cell_type": "markdown",
   "id": "80961dc3",
   "metadata": {},
   "source": [
    "### Анализ корреляции признаков base и train "
   ]
  },
  {
   "cell_type": "code",
   "execution_count": 32,
   "id": "9795907a",
   "metadata": {},
   "outputs": [
    {
     "name": "stdout",
     "output_type": "stream",
     "text": [
      "['21_base', '25_base', '33_base', '59_base', '65_base']\n",
      "['21_base', '25_base', '33_base', '59_base', '65_base']\n"
     ]
    }
   ],
   "source": [
    "# Объединение таблиц по ключевому признаку \"Id\"\n",
    "merged_df = pd.merge(df_base, df_train, left_on=\"Id\", right_on=\"Target\", suffixes=(\"_base\", \"_train\"))\n",
    "merged_df = merged_df.drop(['Id_train', 'Target'], axis = 1)\n",
    "\n",
    "# Масштабирование признаков от -1 до 1\n",
    "scaler = MinMaxScaler(feature_range=(-1, 1))\n",
    "scaled_df = pd.DataFrame(scaler.fit_transform(merged_df.iloc[:, 1:]))\n",
    "\n",
    "# Функция для расчета коэффициента корреляции Пирсона и проверки условия\n",
    "def calculate_correlation_pearson(base_column, train_column):\n",
    "    correlation, _ = pearsonr(base_column, train_column)\n",
    "    return correlation\n",
    "\n",
    "# Функция для расчета коэффициента корреляции Спирмена и проверки условия\n",
    "def calculate_correlation_spearman(base_column, train_column):\n",
    "    correlation, _ = spearmanr(base_column, train_column)\n",
    "    return correlation\n",
    "\n",
    "\n",
    "# Списки для хранения названий столбцов с низким коэффициентом корреляции\n",
    "low_correlation_columns = []\n",
    "correlation_values_pearson = []\n",
    "correlation_values_spearman = []\n",
    "\n",
    "# Задайте пороговое значение для корреляции\n",
    "correlation_threshold = 0.6\n",
    "\n",
    "# Проход по столбцам параметров\n",
    "for col_index in range(72):\n",
    "    base_column = scaled_df.iloc[:, col_index]\n",
    "    train_column = scaled_df.iloc[:, col_index + 72]\n",
    "    \n",
    "    correlation_pearson = calculate_correlation_pearson(base_column, train_column)\n",
    "    correlation_spearman = calculate_correlation_spearman(base_column, train_column)\n",
    "    #print (col_index,correlation_pearson, correlation_spearman)\n",
    "    correlation_values_pearson.append(correlation_pearson)\n",
    "    correlation_values_spearman.append(correlation_spearman)\n",
    "    \n",
    "    # Проверка условия и добавление названия столбца в список\n",
    "    if correlation_pearson < correlation_threshold:\n",
    "        low_correlation_columns.append(merged_df.columns[col_index + 1])\n",
    "\n",
    "# Вывод списка столбцов с низким коэффициентом корреляции\n",
    "print(low_correlation_columns)\n",
    "\n",
    "'''\n",
    "# Проход по столбцам параметров\n",
    "for col_index in range(1, 73):\n",
    "    base_column = merged_df.iloc[:, col_index]\n",
    "    train_column = merged_df.iloc[:, col_index + 72]\n",
    "    \n",
    "    correlation_pearson = calculate_correlation_pearson(base_column, train_column)\n",
    "    correlation_spearman = calculate_correlation_spearman(base_column, train_column)\n",
    "    #print (col_index,correlation_pearson, correlation_spearman)\n",
    "    correlation_values_pearson.append(correlation_pearson)\n",
    "    correlation_values_spearman.append(correlation_spearman)\n",
    "    \n",
    "    # Проверка условия и добавление названия столбца в список\n",
    "    if correlation_pearson < correlation_threshold:\n",
    "        low_correlation_columns.append(merged_df.columns[col_index])\n",
    "'''\n",
    "# Расчет среднего значения и дисперсии корреляции\n",
    "mean_correlation_pearson = sum(correlation_values_pearson) / len(correlation_values_pearson)\n",
    "variance_correlation_pearson = sum((correlation_pearson - mean_correlation_pearson) ** 2 for correlation_pearson\n",
    "                           in correlation_values_pearson) / len(correlation_values_pearson)\n",
    "\n",
    "low_correlation_column_numbers = [re.findall(r'\\d+', value)[0] for value in low_correlation_columns]\n",
    "#print(low_correlation_column_numbers)\n",
    "\n",
    "# Создание новых массивов без столбцов с низкой корреляцией\n",
    "df_base_filtered = df_base.drop(low_correlation_column_numbers, axis = 1)\n",
    "df_train_filtered = df_train.drop(low_correlation_column_numbers, axis = 1)\n",
    "df_test_filtered = df_test.drop(low_correlation_column_numbers, axis = 1)\n",
    "\n",
    "# Вывод списка столбцов с низким коэффициентом корреляции\n",
    "print(low_correlation_columns)\n"
   ]
  },
  {
   "cell_type": "markdown",
   "id": "0e0268b7",
   "metadata": {},
   "source": [
    "### Поиск ближайших соседей с помощью FAISS"
   ]
  },
  {
   "cell_type": "code",
   "execution_count": 34,
   "id": "169b2bd3",
   "metadata": {},
   "outputs": [],
   "source": [
    "def match_embeddings(base, train):#, nlist=10000, nprobe=1000):\n",
    "    base_embeddings = base.iloc[:, 1:].values#.astype('float32')\n",
    "    train_embeddings = train.iloc[:, 1:].values#.astype('float32')\n",
    "    #train_embeddings = train.iloc[:, 1:-1].values.astype('float32')  # Исключаем последний столбец Target, если используем Train\n",
    "    \n",
    "    # Создание индекса\n",
    "    index = faiss.IndexFlatL2(base_embeddings.shape[1])  # Эвклидово расстояние\n",
    "    #index = faiss.IndexFlatIP(base_embeddings.shape[1])   # Косинусное расстояние\n",
    "    index.add(base_embeddings)\n",
    "    \n",
    "    '''\n",
    "    # Параметры индекса\n",
    "    nlist = 100  # Количество клеток в индексе\n",
    "    quantizer = faiss.IndexFlatL2(base_embeddings.shape[1])\n",
    "    index = faiss.IndexIVFFlat(quantizer, base_embeddings.shape[1], nlist, faiss.METRIC_INNER_PRODUCT)\n",
    "\n",
    "    # Обучение индекса\n",
    "    index.train(base_embeddings)\n",
    "    index.add(base_embeddings)\n",
    "    '''\n",
    "\n",
    "    # Поиск ближайших соседей для эмбеддингов из train\n",
    "    _, matched_indices = index.search(train_embeddings, k=10)\n",
    "\n",
    "    matched_ids = train['Id'].values\n",
    "    base_ids = base['Id'].values[matched_indices]\n",
    "\n",
    "    return matched_ids, base_ids"
   ]
  },
  {
   "cell_type": "code",
   "execution_count": 35,
   "id": "2aab53d4",
   "metadata": {},
   "outputs": [],
   "source": [
    "\n",
    "matched_ids, base_ids = match_embeddings(df_base_filtered, df_test_filtered)\n",
    "#matched_ids, base_ids = match_embeddings(df_base_filtered, df_test_filtered, nlist=10000, nprobe=10000)\n",
    "\n",
    "# matched_ids, base_ids = match_embeddings(base_sampled, df_train) # Если испольуем Train, меняем train_embeddings в фунции match_embeddings\n",
    "\n",
    "result = pd.DataFrame({'Id': [f'{qid.split(\"-\")[0]:0>5}-query' for qid in matched_ids],\n",
    "                       'Predicted': [' '.join(ids) for ids in base_ids]})\n"
   ]
  },
  {
   "cell_type": "markdown",
   "id": "f72cff48",
   "metadata": {},
   "source": [
    "### Вывод результатов поиска"
   ]
  },
  {
   "cell_type": "code",
   "execution_count": 36,
   "id": "97eacb98",
   "metadata": {},
   "outputs": [
    {
     "data": {
      "text/html": [
       "<div>\n",
       "<style scoped>\n",
       "    .dataframe tbody tr th:only-of-type {\n",
       "        vertical-align: middle;\n",
       "    }\n",
       "\n",
       "    .dataframe tbody tr th {\n",
       "        vertical-align: top;\n",
       "    }\n",
       "\n",
       "    .dataframe thead th {\n",
       "        text-align: right;\n",
       "    }\n",
       "</style>\n",
       "<table border=\"1\" class=\"dataframe\">\n",
       "  <thead>\n",
       "    <tr style=\"text-align: right;\">\n",
       "      <th></th>\n",
       "      <th>Id</th>\n",
       "      <th>Predicted</th>\n",
       "    </tr>\n",
       "  </thead>\n",
       "  <tbody>\n",
       "    <tr>\n",
       "      <th>0</th>\n",
       "      <td>100000-query</td>\n",
       "      <td>3839597-base 3857586-base 645855-base 3181043-...</td>\n",
       "    </tr>\n",
       "    <tr>\n",
       "      <th>1</th>\n",
       "      <td>100001-query</td>\n",
       "      <td>174378-base 29560-base 1016346-base 1045656-ba...</td>\n",
       "    </tr>\n",
       "    <tr>\n",
       "      <th>2</th>\n",
       "      <td>100002-query</td>\n",
       "      <td>472256-base 153272-base 979799-base 395020-bas...</td>\n",
       "    </tr>\n",
       "    <tr>\n",
       "      <th>3</th>\n",
       "      <td>100003-query</td>\n",
       "      <td>2104072-base 2968459-base 3221757-base 346795-...</td>\n",
       "    </tr>\n",
       "    <tr>\n",
       "      <th>4</th>\n",
       "      <td>100004-query</td>\n",
       "      <td>75484-base 682511-base 3520568-base 976469-bas...</td>\n",
       "    </tr>\n",
       "    <tr>\n",
       "      <th>...</th>\n",
       "      <td>...</td>\n",
       "      <td>...</td>\n",
       "    </tr>\n",
       "    <tr>\n",
       "      <th>99995</th>\n",
       "      <td>199995-query</td>\n",
       "      <td>4090339-base 1749950-base 1295135-base 2958365...</td>\n",
       "    </tr>\n",
       "    <tr>\n",
       "      <th>99996</th>\n",
       "      <td>199996-query</td>\n",
       "      <td>2653840-base 1555564-base 3672615-base 2020012...</td>\n",
       "    </tr>\n",
       "    <tr>\n",
       "      <th>99997</th>\n",
       "      <td>199997-query</td>\n",
       "      <td>2645169-base 2844734-base 75694-base 1200138-b...</td>\n",
       "    </tr>\n",
       "    <tr>\n",
       "      <th>99998</th>\n",
       "      <td>199998-query</td>\n",
       "      <td>341779-base 3485405-base 1341156-base 4572701-...</td>\n",
       "    </tr>\n",
       "    <tr>\n",
       "      <th>99999</th>\n",
       "      <td>199999-query</td>\n",
       "      <td>58990-base 712634-base 213577-base 3405693-bas...</td>\n",
       "    </tr>\n",
       "  </tbody>\n",
       "</table>\n",
       "<p>100000 rows × 2 columns</p>\n",
       "</div>"
      ],
      "text/plain": [
       "                 Id                                          Predicted\n",
       "0      100000-query  3839597-base 3857586-base 645855-base 3181043-...\n",
       "1      100001-query  174378-base 29560-base 1016346-base 1045656-ba...\n",
       "2      100002-query  472256-base 153272-base 979799-base 395020-bas...\n",
       "3      100003-query  2104072-base 2968459-base 3221757-base 346795-...\n",
       "4      100004-query  75484-base 682511-base 3520568-base 976469-bas...\n",
       "...             ...                                                ...\n",
       "99995  199995-query  4090339-base 1749950-base 1295135-base 2958365...\n",
       "99996  199996-query  2653840-base 1555564-base 3672615-base 2020012...\n",
       "99997  199997-query  2645169-base 2844734-base 75694-base 1200138-b...\n",
       "99998  199998-query  341779-base 3485405-base 1341156-base 4572701-...\n",
       "99999  199999-query  58990-base 712634-base 213577-base 3405693-bas...\n",
       "\n",
       "[100000 rows x 2 columns]"
      ]
     },
     "execution_count": 36,
     "metadata": {},
     "output_type": "execute_result"
    }
   ],
   "source": [
    "result"
   ]
  },
  {
   "cell_type": "code",
   "execution_count": 37,
   "id": "95df7cbc",
   "metadata": {},
   "outputs": [],
   "source": [
    "result.to_csv('answer.csv', index=False)"
   ]
  },
  {
   "cell_type": "markdown",
   "id": "789dc770",
   "metadata": {},
   "source": [
    "### Выводы:"
   ]
  },
  {
   "cell_type": "markdown",
   "id": "4dabc04e",
   "metadata": {},
   "source": [
    "В ходе работы был рассмотрена и применена библиотека FAISS для поиска ближайших соседей среди эмбеддингов.\n",
    "Итоговый результат на закрытой тестовой выборке составил: *0.55586*. При этом опубликованное значение baseline модели на этой же выборке было: *0.13850*. Лидеру в данном соревновании удалось набрать *0.77120*\n",
    "\n",
    "Таким образом, можно считать, что полученный результат значительно отличается от baseline, однако всё равно достаточно далёк от от результатов лидеров.\n",
    "\n",
    "Дальнейшими путями для улучшения результата могут служить создание и обучение дополнительных моделей машинного обучения для ранжирования полученных результатов с целью выявления зависимостей в очерёдности выдачи. Получение близких запросу значений путём вычисления косинусных расстояний будет трудно выполнимо на практике ввиду большого количества элементов в датасете, а так же из-за большого количества признаков (72 столбца). "
   ]
  },
  {
   "cell_type": "code",
   "execution_count": null,
   "id": "d77181d0",
   "metadata": {},
   "outputs": [],
   "source": []
  }
 ],
 "metadata": {
  "kernelspec": {
   "display_name": "Python 3 (ipykernel)",
   "language": "python",
   "name": "python3"
  },
  "language_info": {
   "codemirror_mode": {
    "name": "ipython",
    "version": 3
   },
   "file_extension": ".py",
   "mimetype": "text/x-python",
   "name": "python",
   "nbconvert_exporter": "python",
   "pygments_lexer": "ipython3",
   "version": "3.10.11"
  }
 },
 "nbformat": 4,
 "nbformat_minor": 5
}
